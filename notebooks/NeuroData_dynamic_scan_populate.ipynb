{
 "cells": [
  {
   "cell_type": "markdown",
   "metadata": {},
   "source": [
    "# Explore Dynamic Dataset"
   ]
  },
  {
   "cell_type": "markdown",
   "metadata": {},
   "source": [
    "Make lists of keys needed:"
   ]
  },
  {
   "cell_type": "code",
   "execution_count": 1,
   "metadata": {},
   "outputs": [],
   "source": [
    "datasets = ['23504-5-4']\n",
    "\n",
    "keys = []\n",
    "for d in datasets:\n",
    "    animal, session, scan = d.split('-')\n",
    "    keys.append({\n",
    "     'animal_id': animal,\n",
    "     'session': session,\n",
    "     'scan_idx': scan,\n",
    "     'preproc_id': 0\n",
    "    })"
   ]
  },
  {
   "cell_type": "markdown",
   "metadata": {},
   "source": [
    "Here I demonstrate how to fill tables necessary for dynamic dataset generation. "
   ]
  },
  {
   "cell_type": "code",
   "execution_count": 2,
   "metadata": {},
   "outputs": [
    {
     "name": "stdout",
     "output_type": "stream",
     "text": [
      "Connecting synicix@at-database1.ad.bcm.edu:3306\n"
     ]
    }
   ],
   "source": [
    "from neuro_data.movies import data_schemas, configs, stats\n",
    "\n",
    "from neuro_data.movies.data_schemas import *\n",
    "meso = dj.create_virtual_module('meso', 'pipeline_meso')\n",
    "import datajoint as dj\n",
    "\n",
    "\n",
    "import numpy as np"
   ]
  },
  {
   "cell_type": "markdown",
   "metadata": {},
   "source": [
    "First thing first, make sure to insert your desired sessions into `MovieScanCandidate` table. Best would be to fill the `keys` list of dict like above and use the following line to insert."
   ]
  },
  {
   "cell_type": "code",
   "execution_count": 3,
   "metadata": {},
   "outputs": [],
   "source": [
    "data_schemas.MovieScanCandidate().insert(fuse.ScanDone & keys, ignore_extra_fields=True, skip_duplicates=True)"
   ]
  },
  {
   "cell_type": "markdown",
   "metadata": {},
   "source": [
    "Verify that your desired candidates are actually inserted"
   ]
  },
  {
   "cell_type": "markdown",
   "metadata": {},
   "source": [
    "Now simply execute the tables below **in the following order**"
   ]
  },
  {
   "cell_type": "code",
   "execution_count": 4,
   "metadata": {},
   "outputs": [
    {
     "name": "stderr",
     "output_type": "stream",
     "text": [
      "100%|██████████| 1/1 [00:00<00:00, 11.50it/s]\n"
     ]
    }
   ],
   "source": [
    "data_schemas.MovieScan.populate(keys, display_progress=True)"
   ]
  },
  {
   "cell_type": "code",
   "execution_count": 5,
   "metadata": {},
   "outputs": [
    {
     "name": "stderr",
     "output_type": "stream",
     "text": [
      "\r",
      "  0%|          | 0/1 [00:00<?, ?it/s]"
     ]
    },
    {
     "name": "stdout",
     "output_type": "stream",
     "text": [
      "21-02-2020:08:20:43 INFO     data_schemas.py      200:\t Processing {'animal_id': 23504, 'session': 5, 'scan_idx': 4, 'pipe_version': 1, 'segmentation_method': 6, 'spike_method': 5}\n"
     ]
    },
    {
     "name": "stderr",
     "output_type": "stream",
     "text": [
      "100%|██████████| 1/1 [00:00<00:00, 26.45it/s]\n"
     ]
    }
   ],
   "source": [
    "data_schemas.ConditionTier.populate(keys, display_progress=True)"
   ]
  },
  {
   "cell_type": "code",
   "execution_count": 6,
   "metadata": {},
   "outputs": [
    {
     "name": "stderr",
     "output_type": "stream",
     "text": [
      "0it [00:00, ?it/s]\n"
     ]
    }
   ],
   "source": [
    "data_schemas.MovieClips.populate(keys, display_progress=True)"
   ]
  },
  {
   "cell_type": "code",
   "execution_count": 7,
   "metadata": {},
   "outputs": [
    {
     "name": "stderr",
     "output_type": "stream",
     "text": [
      "0it [00:00, ?it/s]\n"
     ]
    }
   ],
   "source": [
    "data_schemas.InputResponse.populate(keys, display_progress=True)"
   ]
  },
  {
   "cell_type": "code",
   "execution_count": 8,
   "metadata": {},
   "outputs": [],
   "source": [
    "data_schemas.Eye.populate(keys)"
   ]
  },
  {
   "cell_type": "code",
   "execution_count": 9,
   "metadata": {},
   "outputs": [],
   "source": [
    "data_schemas.Eye2.populate(keys)"
   ]
  },
  {
   "cell_type": "code",
   "execution_count": 10,
   "metadata": {},
   "outputs": [],
   "source": [
    "data_schemas.Treadmill.populate(keys)"
   ]
  },
  {
   "cell_type": "code",
   "execution_count": 11,
   "metadata": {},
   "outputs": [
    {
     "data": {
      "text/html": [
       "\n",
       "        \n",
       "        <style type=\"text/css\">\n",
       "            .Relation{\n",
       "                border-collapse:collapse;\n",
       "            }\n",
       "            .Relation th{\n",
       "                background: #A0A0A0; color: #ffffff; padding:4px; border:#f0e0e0 1px solid;\n",
       "                font-weight: normal; font-family: monospace; font-size: 100%;\n",
       "            }\n",
       "            .Relation td{\n",
       "                padding:4px; border:#f0e0e0 1px solid; font-size:100%;\n",
       "            }\n",
       "            .Relation tr:nth-child(odd){\n",
       "                background: #ffffff;\n",
       "            }\n",
       "            .Relation tr:nth-child(even){\n",
       "                background: #f3f1ff;\n",
       "            }\n",
       "            /* Tooltip container */\n",
       "            .djtooltip {\n",
       "            }\n",
       "            /* Tooltip text */\n",
       "            .djtooltip .djtooltiptext {\n",
       "                visibility: hidden;\n",
       "                width: 120px;\n",
       "                background-color: black;\n",
       "                color: #fff;\n",
       "                text-align: center;\n",
       "                padding: 5px 0;\n",
       "                border-radius: 6px;\n",
       "                /* Position the tooltip text - see examples below! */\n",
       "                position: absolute;\n",
       "                z-index: 1;\n",
       "            }\n",
       "            #primary {\n",
       "                font-weight: bold;\n",
       "                color: black;\n",
       "            }\n",
       "\n",
       "            #nonprimary {\n",
       "                font-weight: normal;\n",
       "                color: white;\n",
       "            }\n",
       "\n",
       "            /* Show the tooltip text when you mouse over the tooltip container */\n",
       "            .djtooltip:hover .djtooltiptext {\n",
       "                visibility: visible;\n",
       "            }\n",
       "        </style>\n",
       "        \n",
       "        <b>brain area membership of cells</b>\n",
       "            <div style=\"max-height:1000px;max-width:1500px;overflow:auto;\">\n",
       "            <table border=\"1\" class=\"Relation\">\n",
       "                <thead> <tr style=\"text-align: right;\"> <th> <div class=\"djtooltip\">\n",
       "                                <p id=\"primary\">animal_id</p>\n",
       "                                <span class=\"djtooltiptext\">id number</span>\n",
       "                            </div></th><th><div class=\"djtooltip\">\n",
       "                                <p id=\"primary\">session</p>\n",
       "                                <span class=\"djtooltiptext\">session index for the mouse</span>\n",
       "                            </div></th><th><div class=\"djtooltip\">\n",
       "                                <p id=\"primary\">scan_idx</p>\n",
       "                                <span class=\"djtooltiptext\">number of TIFF stack file</span>\n",
       "                            </div></th><th><div class=\"djtooltip\">\n",
       "                                <p id=\"primary\">pipe_version</p>\n",
       "                                <span class=\"djtooltiptext\"></span>\n",
       "                            </div></th><th><div class=\"djtooltip\">\n",
       "                                <p id=\"primary\">segmentation_method</p>\n",
       "                                <span class=\"djtooltiptext\"></span>\n",
       "                            </div></th><th><div class=\"djtooltip\">\n",
       "                                <p id=\"primary\">unit_id</p>\n",
       "                                <span class=\"djtooltiptext\"></span>\n",
       "                            </div></th><th><div class=\"djtooltip\">\n",
       "                                <p id=\"nonprimary\">brain_area</p>\n",
       "                                <span class=\"djtooltiptext\">short name for cortical area</span>\n",
       "                            </div> </th> </tr> </thead>\n",
       "                <tbody> <tr> <td>20457</td>\n",
       "<td>1</td>\n",
       "<td>15</td>\n",
       "<td>1</td>\n",
       "<td>6</td>\n",
       "<td>1</td>\n",
       "<td>V1</td></tr><tr><td>20457</td>\n",
       "<td>1</td>\n",
       "<td>15</td>\n",
       "<td>1</td>\n",
       "<td>6</td>\n",
       "<td>2</td>\n",
       "<td>V1</td></tr><tr><td>20457</td>\n",
       "<td>1</td>\n",
       "<td>15</td>\n",
       "<td>1</td>\n",
       "<td>6</td>\n",
       "<td>3</td>\n",
       "<td>V1</td></tr><tr><td>20457</td>\n",
       "<td>1</td>\n",
       "<td>15</td>\n",
       "<td>1</td>\n",
       "<td>6</td>\n",
       "<td>4</td>\n",
       "<td>V1</td></tr><tr><td>20457</td>\n",
       "<td>1</td>\n",
       "<td>15</td>\n",
       "<td>1</td>\n",
       "<td>6</td>\n",
       "<td>5</td>\n",
       "<td>V1</td></tr><tr><td>20457</td>\n",
       "<td>1</td>\n",
       "<td>15</td>\n",
       "<td>1</td>\n",
       "<td>6</td>\n",
       "<td>6</td>\n",
       "<td>V1</td></tr><tr><td>20457</td>\n",
       "<td>1</td>\n",
       "<td>15</td>\n",
       "<td>1</td>\n",
       "<td>6</td>\n",
       "<td>7</td>\n",
       "<td>V1</td></tr><tr><td>20457</td>\n",
       "<td>1</td>\n",
       "<td>15</td>\n",
       "<td>1</td>\n",
       "<td>6</td>\n",
       "<td>8</td>\n",
       "<td>V1</td></tr><tr><td>20457</td>\n",
       "<td>1</td>\n",
       "<td>15</td>\n",
       "<td>1</td>\n",
       "<td>6</td>\n",
       "<td>9</td>\n",
       "<td>V1</td></tr><tr><td>20457</td>\n",
       "<td>1</td>\n",
       "<td>15</td>\n",
       "<td>1</td>\n",
       "<td>6</td>\n",
       "<td>10</td>\n",
       "<td>V1</td></tr><tr><td>20457</td>\n",
       "<td>1</td>\n",
       "<td>15</td>\n",
       "<td>1</td>\n",
       "<td>6</td>\n",
       "<td>11</td>\n",
       "<td>V1</td></tr><tr><td>20457</td>\n",
       "<td>1</td>\n",
       "<td>15</td>\n",
       "<td>1</td>\n",
       "<td>6</td>\n",
       "<td>12</td>\n",
       "<td>V1</td> </tr> </tbody>\n",
       "            </table>\n",
       "            <p>...</p>\n",
       "            <p>Total: 9017</p></div>\n",
       "            "
      ],
      "text/plain": [
       "*animal_id    *session    *scan_idx    *pipe_version  *segmentation_ *unit_id    brain_area    \n",
       "+-----------+ +---------+ +----------+ +------------+ +------------+ +---------+ +------------+\n",
       "20457         1           15           1              6              1           V1            \n",
       "20457         1           15           1              6              2           V1            \n",
       "20457         1           15           1              6              3           V1            \n",
       "20457         1           15           1              6              4           V1            \n",
       "20457         1           15           1              6              5           V1            \n",
       "20457         1           15           1              6              6           V1            \n",
       "20457         1           15           1              6              7           V1            \n",
       "20457         1           15           1              6              8           V1            \n",
       "20457         1           15           1              6              9           V1            \n",
       "20457         1           15           1              6              10          V1            \n",
       "20457         1           15           1              6              11          V1            \n",
       "20457         1           15           1              6              12          V1            \n",
       "   ...\n",
       " (Total: 9017)"
      ]
     },
     "execution_count": 11,
     "metadata": {},
     "output_type": "execute_result"
    }
   ],
   "source": [
    "anatomy.AreaMembership() & keys"
   ]
  },
  {
   "cell_type": "code",
   "execution_count": 12,
   "metadata": {},
   "outputs": [
    {
     "data": {
      "text/html": [
       "\n",
       "        \n",
       "        <style type=\"text/css\">\n",
       "            .Relation{\n",
       "                border-collapse:collapse;\n",
       "            }\n",
       "            .Relation th{\n",
       "                background: #A0A0A0; color: #ffffff; padding:4px; border:#f0e0e0 1px solid;\n",
       "                font-weight: normal; font-family: monospace; font-size: 100%;\n",
       "            }\n",
       "            .Relation td{\n",
       "                padding:4px; border:#f0e0e0 1px solid; font-size:100%;\n",
       "            }\n",
       "            .Relation tr:nth-child(odd){\n",
       "                background: #ffffff;\n",
       "            }\n",
       "            .Relation tr:nth-child(even){\n",
       "                background: #f3f1ff;\n",
       "            }\n",
       "            /* Tooltip container */\n",
       "            .djtooltip {\n",
       "            }\n",
       "            /* Tooltip text */\n",
       "            .djtooltip .djtooltiptext {\n",
       "                visibility: hidden;\n",
       "                width: 120px;\n",
       "                background-color: black;\n",
       "                color: #fff;\n",
       "                text-align: center;\n",
       "                padding: 5px 0;\n",
       "                border-radius: 6px;\n",
       "                /* Position the tooltip text - see examples below! */\n",
       "                position: absolute;\n",
       "                z-index: 1;\n",
       "            }\n",
       "            #primary {\n",
       "                font-weight: bold;\n",
       "                color: black;\n",
       "            }\n",
       "\n",
       "            #nonprimary {\n",
       "                font-weight: normal;\n",
       "                color: white;\n",
       "            }\n",
       "\n",
       "            /* Show the tooltip text when you mouse over the tooltip container */\n",
       "            .djtooltip:hover .djtooltiptext {\n",
       "                visibility: visible;\n",
       "            }\n",
       "        </style>\n",
       "        \n",
       "        <b></b>\n",
       "            <div style=\"max-height:1000px;max-width:1500px;overflow:auto;\">\n",
       "            <table border=\"1\" class=\"Relation\">\n",
       "                <thead> <tr style=\"text-align: right;\"> <th> <div class=\"djtooltip\">\n",
       "                                <p id=\"primary\">animal_id</p>\n",
       "                                <span class=\"djtooltiptext\">id number</span>\n",
       "                            </div></th><th><div class=\"djtooltip\">\n",
       "                                <p id=\"primary\">session</p>\n",
       "                                <span class=\"djtooltiptext\">session index for the mouse</span>\n",
       "                            </div></th><th><div class=\"djtooltip\">\n",
       "                                <p id=\"primary\">scan_idx</p>\n",
       "                                <span class=\"djtooltiptext\">number of TIFF stack file</span>\n",
       "                            </div></th><th><div class=\"djtooltip\">\n",
       "                                <p id=\"primary\">pipe_version</p>\n",
       "                                <span class=\"djtooltiptext\"></span>\n",
       "                            </div></th><th><div class=\"djtooltip\">\n",
       "                                <p id=\"primary\">segmentation_method</p>\n",
       "                                <span class=\"djtooltiptext\"></span>\n",
       "                            </div></th><th><div class=\"djtooltip\">\n",
       "                                <p id=\"primary\">unit_id</p>\n",
       "                                <span class=\"djtooltiptext\">unique per scan & segmentation method</span>\n",
       "                            </div></th><th><div class=\"djtooltip\">\n",
       "                                <p id=\"nonprimary\">layer</p>\n",
       "                                <span class=\"djtooltiptext\">short name for cortical area</span>\n",
       "                            </div> </th> </tr> </thead>\n",
       "                <tbody> <tr> <td>20457</td>\n",
       "<td>1</td>\n",
       "<td>15</td>\n",
       "<td>1</td>\n",
       "<td>6</td>\n",
       "<td>1</td>\n",
       "<td>L2/3</td></tr><tr><td>20457</td>\n",
       "<td>1</td>\n",
       "<td>15</td>\n",
       "<td>1</td>\n",
       "<td>6</td>\n",
       "<td>2</td>\n",
       "<td>L2/3</td></tr><tr><td>20457</td>\n",
       "<td>1</td>\n",
       "<td>15</td>\n",
       "<td>1</td>\n",
       "<td>6</td>\n",
       "<td>3</td>\n",
       "<td>L2/3</td></tr><tr><td>20457</td>\n",
       "<td>1</td>\n",
       "<td>15</td>\n",
       "<td>1</td>\n",
       "<td>6</td>\n",
       "<td>4</td>\n",
       "<td>L2/3</td></tr><tr><td>20457</td>\n",
       "<td>1</td>\n",
       "<td>15</td>\n",
       "<td>1</td>\n",
       "<td>6</td>\n",
       "<td>5</td>\n",
       "<td>L2/3</td></tr><tr><td>20457</td>\n",
       "<td>1</td>\n",
       "<td>15</td>\n",
       "<td>1</td>\n",
       "<td>6</td>\n",
       "<td>6</td>\n",
       "<td>L2/3</td></tr><tr><td>20457</td>\n",
       "<td>1</td>\n",
       "<td>15</td>\n",
       "<td>1</td>\n",
       "<td>6</td>\n",
       "<td>7</td>\n",
       "<td>L2/3</td></tr><tr><td>20457</td>\n",
       "<td>1</td>\n",
       "<td>15</td>\n",
       "<td>1</td>\n",
       "<td>6</td>\n",
       "<td>8</td>\n",
       "<td>L2/3</td></tr><tr><td>20457</td>\n",
       "<td>1</td>\n",
       "<td>15</td>\n",
       "<td>1</td>\n",
       "<td>6</td>\n",
       "<td>9</td>\n",
       "<td>L2/3</td></tr><tr><td>20457</td>\n",
       "<td>1</td>\n",
       "<td>15</td>\n",
       "<td>1</td>\n",
       "<td>6</td>\n",
       "<td>10</td>\n",
       "<td>L2/3</td></tr><tr><td>20457</td>\n",
       "<td>1</td>\n",
       "<td>15</td>\n",
       "<td>1</td>\n",
       "<td>6</td>\n",
       "<td>11</td>\n",
       "<td>L2/3</td></tr><tr><td>20457</td>\n",
       "<td>1</td>\n",
       "<td>15</td>\n",
       "<td>1</td>\n",
       "<td>6</td>\n",
       "<td>12</td>\n",
       "<td>L2/3</td> </tr> </tbody>\n",
       "            </table>\n",
       "            <p>...</p>\n",
       "            <p>Total: 9017</p></div>\n",
       "            "
      ],
      "text/plain": [
       "*animal_id    *session    *scan_idx    *pipe_version  *segmentation_ *unit_id    layer    \n",
       "+-----------+ +---------+ +----------+ +------------+ +------------+ +---------+ +-------+\n",
       "20457         1           15           1              6              1           L2/3     \n",
       "20457         1           15           1              6              2           L2/3     \n",
       "20457         1           15           1              6              3           L2/3     \n",
       "20457         1           15           1              6              4           L2/3     \n",
       "20457         1           15           1              6              5           L2/3     \n",
       "20457         1           15           1              6              6           L2/3     \n",
       "20457         1           15           1              6              7           L2/3     \n",
       "20457         1           15           1              6              8           L2/3     \n",
       "20457         1           15           1              6              9           L2/3     \n",
       "20457         1           15           1              6              10          L2/3     \n",
       "20457         1           15           1              6              11          L2/3     \n",
       "20457         1           15           1              6              12          L2/3     \n",
       "   ...\n",
       " (Total: 9017)"
      ]
     },
     "execution_count": 12,
     "metadata": {},
     "output_type": "execute_result"
    }
   ],
   "source": [
    "anatomy.LayerMembership() & keys"
   ]
  },
  {
   "cell_type": "markdown",
   "metadata": {},
   "source": [
    "If you know that they are from same area/layer, then you can use the following to manually fill the area and layer memberhsip table"
   ]
  },
  {
   "cell_type": "code",
   "execution_count": 13,
   "metadata": {},
   "outputs": [],
   "source": [
    "units = (meso.ScanSet.Unit & keys).fetch('KEY')\n",
    "\n",
    "for u in units:\n",
    "    u['brain_area'] = 'V1'\n",
    "    u['layer'] = 'L2/3'\n",
    "\n",
    "anatomy.AreaMembership.insert(units, ignore_extra_fields=True, allow_direct_insert=True, skip_duplicates=True)\n",
    "\n",
    "anatomy.LayerMembership.insert(units, ignore_extra_fields=True, allow_direct_insert=True, skip_duplicates=True)"
   ]
  },
  {
   "cell_type": "markdown",
   "metadata": {},
   "source": [
    "## To generate new entry into MovieMultiDataset"
   ]
  },
  {
   "cell_type": "markdown",
   "metadata": {},
   "source": [
    "Run the following specifying the key, one at a time. **CAUTION**: it can also create a group with more than one key in it at a time, so carefully read the prompt! Please also be sure to give a meaningful description of the data group."
   ]
  },
  {
   "cell_type": "markdown",
   "metadata": {},
   "source": [
    "Register each key entry separtely"
   ]
  },
  {
   "cell_type": "code",
   "execution_count": 14,
   "metadata": {},
   "outputs": [
    {
     "name": "stdout",
     "output_type": "stream",
     "text": [
      "Already found entry with group_id=20 correspondig to the specified members:\n",
      "{'animal_id': 20457, 'session': 1, 'scan_idx': 15, 'pipe_version': 1, 'segmentation_method': 6, 'spike_method': 5, 'preproc_id': 0}\n",
      "Aborting...\n"
     ]
    }
   ],
   "source": [
    "for key in keys:\n",
    "    name = '{animal_id}-{session}-{scan_idx}'.format(**key)\n",
    "    MovieMultiDataset().add_entry(name, key)"
   ]
  },
  {
   "cell_type": "markdown",
   "metadata": {},
   "source": [
    "## Generate HDF5 files"
   ]
  },
  {
   "cell_type": "markdown",
   "metadata": {},
   "source": [
    "To trigger the generation of HDF5 files, run the following, but only upon ensuring that you have all above tables filled!"
   ]
  },
  {
   "cell_type": "code",
   "execution_count": 17,
   "metadata": {},
   "outputs": [
    {
     "name": "stdout",
     "output_type": "stream",
     "text": [
      "/external/cache/movies20457-1-15-pre0-pipe1-seg6-spike5.h5\n"
     ]
    }
   ],
   "source": [
    "for key in keys:\n",
    "    key['preproc_id'] = 0\n",
    "    #print('Generating HDF5 file for {}'.format(key))\n",
    "    filename = data_schemas.InputResponse().get_filename(key)\n",
    "    #print('Data for {} can be found in {}'.format(key, filename))\n",
    "    print(filename)"
   ]
  },
  {
   "cell_type": "markdown",
   "metadata": {},
   "source": [
    "## Fill out the Oracle score"
   ]
  },
  {
   "cell_type": "code",
   "execution_count": null,
   "metadata": {},
   "outputs": [],
   "source": [
    "data_hash = dict(data_hash = \"ecb7c24fafd19503a2eef756ac4a24a4\")"
   ]
  },
  {
   "cell_type": "code",
   "execution_count": null,
   "metadata": {},
   "outputs": [],
   "source": [
    "configs.DataConfig.AreaLayer & data_hash"
   ]
  },
  {
   "cell_type": "code",
   "execution_count": null,
   "metadata": {},
   "outputs": [],
   "source": [
    "stats.Oracle.populate(MovieMultiDataset.Member & keys, data_hash)"
   ]
  }
 ],
 "metadata": {
  "kernelspec": {
   "display_name": "Python 3",
   "language": "python",
   "name": "python3"
  },
  "language_info": {
   "codemirror_mode": {
    "name": "ipython",
    "version": 3
   },
   "file_extension": ".py",
   "mimetype": "text/x-python",
   "name": "python",
   "nbconvert_exporter": "python",
   "pygments_lexer": "ipython3",
   "version": "3.6.9"
  }
 },
 "nbformat": 4,
 "nbformat_minor": 4
}
