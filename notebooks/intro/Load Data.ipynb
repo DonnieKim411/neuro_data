{
 "cells": [
  {
   "cell_type": "code",
   "execution_count": null,
   "metadata": {},
   "outputs": [],
   "source": [
    "%load_ext autoreload\n",
    "%autoreload 2\n",
    "%matplotlib inline"
   ]
  },
  {
   "cell_type": "code",
   "execution_count": null,
   "metadata": {},
   "outputs": [],
   "source": [
    "from neuro_data.movies.configs import DataConfig\n",
    "from neuro_data.movies.data_schemas import MovieMultiDataset"
   ]
  },
  {
   "cell_type": "markdown",
   "metadata": {},
   "source": [
    "# Configurations and Groups\n",
    "\n",
    "Each set of recordings has a group ID. Each group can be one or several scans. First try to find the group that belongs to the scan you want to run. "
   ]
  },
  {
   "cell_type": "code",
   "execution_count": null,
   "metadata": {},
   "outputs": [],
   "source": [
    "MovieMultiDataset()"
   ]
  },
  {
   "cell_type": "code",
   "execution_count": null,
   "metadata": {},
   "outputs": [],
   "source": [
    "MovieMultiDataset.Member & 'group_id=2'"
   ]
  },
  {
   "cell_type": "markdown",
   "metadata": {},
   "source": [
    "Once you have the scan, you need to find a config on top. A configuration could determine what area you want, which layer, etc. All those configs are in `neuro_data.movies.configs.DataConfig`."
   ]
  },
  {
   "cell_type": "code",
   "execution_count": null,
   "metadata": {},
   "outputs": [],
   "source": [
    "DataConfig()"
   ]
  },
  {
   "cell_type": "markdown",
   "metadata": {},
   "source": [
    "This table has a lot of subtables that determine and implement the actual config. A good place to start is `AreaLayer`."
   ]
  },
  {
   "cell_type": "code",
   "execution_count": null,
   "metadata": {},
   "outputs": [],
   "source": [
    "DataConfig.AreaLayer() & 'layer=\"L2/3\" and brain_area=\"V1\"'"
   ]
  },
  {
   "cell_type": "markdown",
   "metadata": {},
   "source": [
    "You need to get the hash of the config you want to load it. Let's use natural movies (`stimulus.Clip`) and `V1` and `L2/3`. \n",
    "Note that the config is independent of the `group_id` so you need to specify it. Some combinations do not make sense. You should not try to load `LM` neurons from a recording that only has `V1`. "
   ]
  },
  {
   "cell_type": "code",
   "execution_count": null,
   "metadata": {},
   "outputs": [],
   "source": [
    "trainsets, train_loaders = DataConfig().load_data(dict(data_hash='ecb7c24fafd19503a2eef756ac4a24a4', group_id=2), tier='train', cuda=True, batch_size=5)"
   ]
  },
  {
   "cell_type": "markdown",
   "metadata": {},
   "source": [
    "# Dataloader and datasets\n",
    "\n",
    "Dataloaders and datasets are both dictionaries. They correspond to the different scans. \n",
    "\n",
    "Each dataset has *transforms* that restrict the \"columns\" (neurons) in a certain way or transfor the data. For instance, the example below chooses a subsequence of 150 frames, normalizes the data (but not the inputs or responses), subsamples to the right set of neurons, and converts the result to a tensor. \n"
   ]
  },
  {
   "cell_type": "code",
   "execution_count": null,
   "metadata": {},
   "outputs": [],
   "source": [
    "trainsets['group002-18142-6-3-pre0-seg3-spi5-pip1']"
   ]
  },
  {
   "cell_type": "markdown",
   "metadata": {},
   "source": [
    "This is configured by the subtable in the `DataConfig` and you should look at the code to understand what it does. Note that the configuration can be different depending on whether `train`, `test`, or `validation` sets are loaded. For instance, subsampling to 150 frames is nice for trainins, but doesn't make sense for testing. "
   ]
  },
  {
   "cell_type": "code",
   "execution_count": null,
   "metadata": {},
   "outputs": [],
   "source": [
    "testsets, _ = DataConfig().load_data(dict(data_hash='ecb7c24fafd19503a2eef756ac4a24a4', group_id=2), tier='test', cuda=True)"
   ]
  },
  {
   "cell_type": "code",
   "execution_count": null,
   "metadata": {},
   "outputs": [],
   "source": [
    "testsets['group002-18142-6-3-pre0-seg3-spi5-pip1']"
   ]
  },
  {
   "cell_type": "markdown",
   "metadata": {},
   "source": [
    "The dataloader returns the right set of trials, transformed in the correct way. "
   ]
  },
  {
   "cell_type": "code",
   "execution_count": null,
   "metadata": {},
   "outputs": [],
   "source": [
    "for movie, _, _, responses in train_loaders['group002-18142-6-3-pre0-seg3-spi5-pip1']:\n",
    "    print(movie.shape, responses.shape)"
   ]
  },
  {
   "cell_type": "code",
   "execution_count": null,
   "metadata": {},
   "outputs": [],
   "source": []
  }
 ],
 "metadata": {
  "kernelspec": {
   "display_name": "Python 3",
   "language": "python",
   "name": "python3"
  },
  "language_info": {
   "codemirror_mode": {
    "name": "ipython",
    "version": 3
   },
   "file_extension": ".py",
   "mimetype": "text/x-python",
   "name": "python",
   "nbconvert_exporter": "python",
   "pygments_lexer": "ipython3",
   "version": "3.5.2"
  }
 },
 "nbformat": 4,
 "nbformat_minor": 2
}
