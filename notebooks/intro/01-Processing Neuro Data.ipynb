{
 "cells": [
  {
   "cell_type": "markdown",
   "metadata": {},
   "source": [
    "# Processing of neuronal data"
   ]
  },
  {
   "cell_type": "markdown",
   "metadata": {},
   "source": [
    "This notebook guides through the process of populating tables found in `neuro_data.static_images` following experiments with static images. These steps are necessary to be able to train NN on this data."
   ]
  },
  {
   "cell_type": "code",
   "execution_count": 1,
   "metadata": {},
   "outputs": [
    {
     "name": "stdout",
     "output_type": "stream",
     "text": [
      "Connecting ecobost@at-database.ad.bcm.edu:3306\n"
     ]
    },
    {
     "name": "stderr",
     "output_type": "stream",
     "text": [
      "/src/static-networks/staticnet_analyses/multi_mei.py:1649: UserWarning: Use of this table is deprecated. It is kept only for record keeping purpose\n",
      "  warnings.warn('Use of this table is deprecated. It is kept only for record keeping purpose')\n"
     ]
    }
   ],
   "source": [
    "from neuro_data.static_images import data_schemas as data, stats, configs\n",
    "from neuro_data.static_images.data_schemas import meso, fuse, anatomy, stimulus, experiment\n",
    "from staticnet_analyses import multi_mei, closed_loop\n",
    "\n",
    "import datajoint as dj\n",
    "from time import time\n",
    "import numpy as np\n",
    "from itertools import compress\n",
    "\n",
    "dj.config['display.limit'] = 30"
   ]
  },
  {
   "cell_type": "markdown",
   "metadata": {},
   "source": [
    "# Listing of MEI scans"
   ]
  },
  {
   "cell_type": "markdown",
   "metadata": {},
   "source": [
    "All MEI related scans are listed in the variable `MEI_STATIC`. **Add new MEI scans into the variable `MEI_STATIC`**."
   ]
  },
  {
   "cell_type": "code",
   "execution_count": 2,
   "metadata": {},
   "outputs": [
    {
     "data": {
      "text/plain": [
       "['(animal_id=20505 AND session=2 AND scan_idx=24)',\n",
       " '(animal_id=20505 AND session=3 AND scan_idx=7)',\n",
       " '(animal_id=20505 AND session=5 AND scan_idx=26)',\n",
       " '(animal_id=20505 AND session=6 AND scan_idx=1)',\n",
       " '(animal_id=20505 AND session=7 AND scan_idx=23)',\n",
       " '(animal_id=20505 AND session=7 AND scan_idx=29)',\n",
       " '(animal_id=20457 AND session=5 AND scan_idx=9)',\n",
       " '(animal_id=20457 AND session=5 AND scan_idx=17)',\n",
       " '(animal_id=20457 AND session=5 AND scan_idx=27)',\n",
       " '(animal_id=20457 AND session=7 AND scan_idx=10)',\n",
       " '(animal_id=20457 AND session=7 AND scan_idx=16)',\n",
       " '(animal_id=20457 AND session=8 AND scan_idx=9)',\n",
       " '(animal_id=20457 AND session=8 AND scan_idx=12)',\n",
       " '(animal_id=20457 AND session=8 AND scan_idx=22)',\n",
       " '(animal_id=20505 AND session=10 AND scan_idx=14)',\n",
       " '(animal_id=20505 AND session=10 AND scan_idx=19)',\n",
       " '(animal_id=20505 AND session=11 AND scan_idx=16)',\n",
       " '(animal_id=20505 AND session=12 AND scan_idx=16)',\n",
       " '(animal_id=20505 AND session=12 AND scan_idx=29)',\n",
       " '(animal_id=20505 AND session=14 AND scan_idx=4)',\n",
       " '(animal_id=20505 AND session=14 AND scan_idx=33)',\n",
       " '(animal_id=20210 AND session=4 AND scan_idx=11)',\n",
       " '(animal_id=20210 AND session=5 AND scan_idx=16)',\n",
       " '(animal_id=20210 AND session=7 AND scan_idx=10)',\n",
       " '(animal_id=20210 AND session=7 AND scan_idx=14)',\n",
       " '(animal_id=20210 AND session=8 AND scan_idx=17)',\n",
       " '(animal_id=20892 AND session=3 AND scan_idx=14)',\n",
       " '(animal_id=20892 AND session=4 AND scan_idx=16)',\n",
       " '(animal_id=20892 AND session=5 AND scan_idx=18)',\n",
       " '(animal_id=20892 AND session=6 AND scan_idx=17)',\n",
       " '(animal_id=20892 AND session=6 AND scan_idx=24)',\n",
       " '(animal_id=21067 AND session=9 AND scan_idx=17)',\n",
       " '(animal_id=21067 AND session=10 AND scan_idx=14)',\n",
       " '(animal_id=21067 AND session=10 AND scan_idx=18)',\n",
       " '(animal_id=21067 AND session=11 AND scan_idx=21)',\n",
       " '(animal_id=21067 AND session=12 AND scan_idx=15)',\n",
       " '(animal_id=21067 AND session=13 AND scan_idx=14)',\n",
       " '(animal_id=22564 AND session=2 AND scan_idx=12)',\n",
       " '(animal_id=22564 AND session=2 AND scan_idx=13)',\n",
       " '(animal_id=22564 AND session=3 AND scan_idx=8)',\n",
       " '(animal_id=22564 AND session=3 AND scan_idx=12)',\n",
       " '(animal_id=22620 AND session=4 AND scan_idx=15)']"
      ]
     },
     "execution_count": 2,
     "metadata": {},
     "output_type": "execute_result"
    }
   ],
   "source": [
    "data.MEI_STATIC"
   ]
  },
  {
   "cell_type": "markdown",
   "metadata": {},
   "source": [
    "# Exclude bad trials"
   ]
  },
  {
   "cell_type": "markdown",
   "metadata": {},
   "source": [
    "Find trials with improper number of flip times"
   ]
  },
  {
   "cell_type": "code",
   "execution_count": 7,
   "metadata": {},
   "outputs": [],
   "source": [
    "targets = '(animal_id=22620 AND session=4 AND scan_idx=15)'"
   ]
  },
  {
   "cell_type": "code",
   "execution_count": 8,
   "metadata": {},
   "outputs": [
    {
     "data": {
      "text/html": [
       "\n",
       "        \n",
       "        <style type=\"text/css\">\n",
       "            .Relation{\n",
       "                border-collapse:collapse;\n",
       "            }\n",
       "            .Relation th{\n",
       "                background: #A0A0A0; color: #ffffff; padding:4px; border:#f0e0e0 1px solid;\n",
       "                font-weight: normal; font-family: monospace; font-size: 100%;\n",
       "            }\n",
       "            .Relation td{\n",
       "                padding:4px; border:#f0e0e0 1px solid; font-size:100%;\n",
       "            }\n",
       "            .Relation tr:nth-child(odd){\n",
       "                background: #ffffff;\n",
       "            }\n",
       "            .Relation tr:nth-child(even){\n",
       "                background: #f3f1ff;\n",
       "            }\n",
       "            /* Tooltip container */\n",
       "            .djtooltip {\n",
       "            }\n",
       "            /* Tooltip text */\n",
       "            .djtooltip .djtooltiptext {\n",
       "                visibility: hidden;\n",
       "                width: 120px;\n",
       "                background-color: black;\n",
       "                color: #fff;\n",
       "                text-align: center;\n",
       "                padding: 5px 0;\n",
       "                border-radius: 6px;\n",
       "                /* Position the tooltip text - see examples below! */\n",
       "                position: absolute;\n",
       "                z-index: 1;\n",
       "            }\n",
       "            #primary {\n",
       "                font-weight: bold;\n",
       "                color: black;\n",
       "            }\n",
       "\n",
       "            #nonprimary {\n",
       "                font-weight: normal;\n",
       "                color: white;\n",
       "            }\n",
       "\n",
       "            /* Show the tooltip text when you mouse over the tooltip container */\n",
       "            .djtooltip:hover .djtooltiptext {\n",
       "                visibility: visible;\n",
       "            }\n",
       "        </style>\n",
       "        \n",
       "        <b>Calcium activity for the whole scan (multiple scan fields)</b>\n",
       "            <div style=\"max-height:1000px;max-width:1500px;overflow:auto;\">\n",
       "            <table border=\"1\" class=\"Relation\">\n",
       "                <thead> <tr style=\"text-align: right;\"> <th> <div class=\"djtooltip\">\n",
       "                                <p id=\"primary\">animal_id</p>\n",
       "                                <span class=\"djtooltiptext\">id number</span>\n",
       "                            </div></th><th><div class=\"djtooltip\">\n",
       "                                <p id=\"primary\">session</p>\n",
       "                                <span class=\"djtooltiptext\">session index for the mouse</span>\n",
       "                            </div></th><th><div class=\"djtooltip\">\n",
       "                                <p id=\"primary\">scan_idx</p>\n",
       "                                <span class=\"djtooltiptext\">number of TIFF stack file</span>\n",
       "                            </div></th><th><div class=\"djtooltip\">\n",
       "                                <p id=\"primary\">pipe_version</p>\n",
       "                                <span class=\"djtooltiptext\"></span>\n",
       "                            </div></th><th><div class=\"djtooltip\">\n",
       "                                <p id=\"primary\">segmentation_method</p>\n",
       "                                <span class=\"djtooltiptext\"></span>\n",
       "                            </div></th><th><div class=\"djtooltip\">\n",
       "                                <p id=\"primary\">spike_method</p>\n",
       "                                <span class=\"djtooltiptext\">spike inference method</span>\n",
       "                            </div></th><th><div class=\"djtooltip\">\n",
       "                                <p id=\"nonprimary\">pipe</p>\n",
       "                                <span class=\"djtooltiptext\">pipeline name</span>\n",
       "                            </div> </th> </tr> </thead>\n",
       "                <tbody> <tr> <td>22620</td>\n",
       "<td>4</td>\n",
       "<td>15</td>\n",
       "<td>1</td>\n",
       "<td>6</td>\n",
       "<td>5</td>\n",
       "<td>meso</td> </tr> </tbody>\n",
       "            </table>\n",
       "            \n",
       "            <p>Total: 1</p></div>\n",
       "            "
      ],
      "text/plain": [
       "*animal_id    *session    *scan_idx    *pipe_version  *segmentation_ *spike_method  pipe    \n",
       "+-----------+ +---------+ +----------+ +------------+ +------------+ +------------+ +------+\n",
       "22620         4           15           1              6              5              meso    \n",
       " (Total: 1)"
      ]
     },
     "execution_count": 8,
     "metadata": {},
     "output_type": "execute_result"
    }
   ],
   "source": [
    "fuse.ScanDone & targets"
   ]
  },
  {
   "cell_type": "code",
   "execution_count": 9,
   "metadata": {},
   "outputs": [],
   "source": [
    "unprocessed = (fuse.ScanDone & targets) - data.InputResponse"
   ]
  },
  {
   "cell_type": "code",
   "execution_count": 10,
   "metadata": {},
   "outputs": [
    {
     "data": {
      "text/html": [
       "\n",
       "        \n",
       "        <style type=\"text/css\">\n",
       "            .Relation{\n",
       "                border-collapse:collapse;\n",
       "            }\n",
       "            .Relation th{\n",
       "                background: #A0A0A0; color: #ffffff; padding:4px; border:#f0e0e0 1px solid;\n",
       "                font-weight: normal; font-family: monospace; font-size: 100%;\n",
       "            }\n",
       "            .Relation td{\n",
       "                padding:4px; border:#f0e0e0 1px solid; font-size:100%;\n",
       "            }\n",
       "            .Relation tr:nth-child(odd){\n",
       "                background: #ffffff;\n",
       "            }\n",
       "            .Relation tr:nth-child(even){\n",
       "                background: #f3f1ff;\n",
       "            }\n",
       "            /* Tooltip container */\n",
       "            .djtooltip {\n",
       "            }\n",
       "            /* Tooltip text */\n",
       "            .djtooltip .djtooltiptext {\n",
       "                visibility: hidden;\n",
       "                width: 120px;\n",
       "                background-color: black;\n",
       "                color: #fff;\n",
       "                text-align: center;\n",
       "                padding: 5px 0;\n",
       "                border-radius: 6px;\n",
       "                /* Position the tooltip text - see examples below! */\n",
       "                position: absolute;\n",
       "                z-index: 1;\n",
       "            }\n",
       "            #primary {\n",
       "                font-weight: bold;\n",
       "                color: black;\n",
       "            }\n",
       "\n",
       "            #nonprimary {\n",
       "                font-weight: normal;\n",
       "                color: white;\n",
       "            }\n",
       "\n",
       "            /* Show the tooltip text when you mouse over the tooltip container */\n",
       "            .djtooltip:hover .djtooltiptext {\n",
       "                visibility: visible;\n",
       "            }\n",
       "        </style>\n",
       "        \n",
       "        <b>Calcium activity for the whole scan (multiple scan fields)</b>\n",
       "            <div style=\"max-height:1000px;max-width:1500px;overflow:auto;\">\n",
       "            <table border=\"1\" class=\"Relation\">\n",
       "                <thead> <tr style=\"text-align: right;\"> <th> <div class=\"djtooltip\">\n",
       "                                <p id=\"primary\">animal_id</p>\n",
       "                                <span class=\"djtooltiptext\">id number</span>\n",
       "                            </div></th><th><div class=\"djtooltip\">\n",
       "                                <p id=\"primary\">session</p>\n",
       "                                <span class=\"djtooltiptext\">session index for the mouse</span>\n",
       "                            </div></th><th><div class=\"djtooltip\">\n",
       "                                <p id=\"primary\">scan_idx</p>\n",
       "                                <span class=\"djtooltiptext\">number of TIFF stack file</span>\n",
       "                            </div></th><th><div class=\"djtooltip\">\n",
       "                                <p id=\"primary\">pipe_version</p>\n",
       "                                <span class=\"djtooltiptext\"></span>\n",
       "                            </div></th><th><div class=\"djtooltip\">\n",
       "                                <p id=\"primary\">segmentation_method</p>\n",
       "                                <span class=\"djtooltiptext\"></span>\n",
       "                            </div></th><th><div class=\"djtooltip\">\n",
       "                                <p id=\"primary\">spike_method</p>\n",
       "                                <span class=\"djtooltiptext\">spike inference method</span>\n",
       "                            </div></th><th><div class=\"djtooltip\">\n",
       "                                <p id=\"nonprimary\">pipe</p>\n",
       "                                <span class=\"djtooltiptext\">pipeline name</span>\n",
       "                            </div> </th> </tr> </thead>\n",
       "                <tbody> <tr> <td>22620</td>\n",
       "<td>4</td>\n",
       "<td>15</td>\n",
       "<td>1</td>\n",
       "<td>6</td>\n",
       "<td>5</td>\n",
       "<td>meso</td> </tr> </tbody>\n",
       "            </table>\n",
       "            \n",
       "            <p>Total: 1</p></div>\n",
       "            "
      ],
      "text/plain": [
       "*animal_id    *session    *scan_idx    *pipe_version  *segmentation_ *spike_method  pipe    \n",
       "+-----------+ +---------+ +----------+ +------------+ +------------+ +------------+ +------+\n",
       "22620         4           15           1              6              5              meso    \n",
       " (Total: 1)"
      ]
     },
     "execution_count": 10,
     "metadata": {},
     "output_type": "execute_result"
    }
   ],
   "source": [
    "unprocessed"
   ]
  },
  {
   "cell_type": "code",
   "execution_count": 11,
   "metadata": {},
   "outputs": [],
   "source": [
    "keys, flips = (stimulus.Trial & stimulus.Frame & unprocessed - data.ExcludedTrial).fetch('KEY', 'flip_times')"
   ]
  },
  {
   "cell_type": "code",
   "execution_count": 12,
   "metadata": {},
   "outputs": [],
   "source": [
    "n_flips = np.array([f.shape[1] for f in flips])"
   ]
  },
  {
   "cell_type": "code",
   "execution_count": 13,
   "metadata": {},
   "outputs": [
    {
     "data": {
      "text/plain": [
       "6000"
      ]
     },
     "execution_count": 13,
     "metadata": {},
     "output_type": "execute_result"
    }
   ],
   "source": [
    "len(n_flips)"
   ]
  },
  {
   "cell_type": "code",
   "execution_count": 14,
   "metadata": {},
   "outputs": [
    {
     "data": {
      "text/plain": [
       "array([3, 3, 3, ..., 3, 3, 3])"
      ]
     },
     "execution_count": 14,
     "metadata": {},
     "output_type": "execute_result"
    }
   ],
   "source": [
    "n_flips"
   ]
  },
  {
   "cell_type": "markdown",
   "metadata": {},
   "source": [
    "There should only be 3 frames for `stimulus.Frame` stimulus."
   ]
  },
  {
   "cell_type": "code",
   "execution_count": 15,
   "metadata": {},
   "outputs": [],
   "source": [
    "correct_flips = 3"
   ]
  },
  {
   "cell_type": "code",
   "execution_count": 16,
   "metadata": {},
   "outputs": [
    {
     "data": {
      "text/plain": [
       "0"
      ]
     },
     "execution_count": 16,
     "metadata": {},
     "output_type": "execute_result"
    }
   ],
   "source": [
    "bad_trials = (n_flips != correct_flips)\n",
    "sum(bad_trials)"
   ]
  },
  {
   "cell_type": "code",
   "execution_count": 17,
   "metadata": {},
   "outputs": [],
   "source": [
    "bad_trial_keys = list(compress(keys, bad_trials))"
   ]
  },
  {
   "cell_type": "code",
   "execution_count": 18,
   "metadata": {},
   "outputs": [],
   "source": [
    "data.ExcludedTrial.insert(bad_trial_keys)"
   ]
  },
  {
   "cell_type": "markdown",
   "metadata": {},
   "source": [
    "# Processing of the data"
   ]
  },
  {
   "cell_type": "markdown",
   "metadata": {},
   "source": [
    "**NOTE:** All of the following steps can be and should be completed by invoking `closed_loop.fill_data(cond)`. In particular, filling of `ConditionTier` and `InputResponse` should **not** be performed in a notebook due to long output."
   ]
  },
  {
   "cell_type": "markdown",
   "metadata": {},
   "source": [
    "Add the new scan information into `MEI_STATIC` variable defined in `data_schemas.py`"
   ]
  },
  {
   "cell_type": "code",
   "execution_count": 19,
   "metadata": {},
   "outputs": [
    {
     "name": "stdout",
     "output_type": "stream",
     "text": [
      "CPU times: user 64.4 ms, sys: 9.08 ms, total: 73.4 ms\n",
      "Wall time: 460 ms\n"
     ]
    }
   ],
   "source": [
    "%%time\n",
    "data.StaticScan().populate(targets)"
   ]
  },
  {
   "cell_type": "code",
   "execution_count": 20,
   "metadata": {},
   "outputs": [
    {
     "name": "stdout",
     "output_type": "stream",
     "text": [
      "08-10-2019:03:11:56 INFO     data_schemas.py      337:\t --------------------------------------------------------------------------------\n",
      "08-10-2019:03:11:56 INFO     data_schemas.py      338:\t Processing {'animal_id': 22620,\n",
      " 'pipe_version': 1,\n",
      " 'scan_idx': 15,\n",
      " 'segmentation_method': 6,\n",
      " 'session': 4,\n",
      " 'spike_method': 5}\n",
      "08-10-2019:03:11:56 INFO     data_schemas.py      349:\t Inserting assignment from ImageNetSplit\n",
      "Inserting 5100 imagenet conditions!\n",
      "CPU times: user 69 ms, sys: 5.95 ms, total: 74.9 ms\n",
      "Wall time: 1.64 s\n"
     ]
    }
   ],
   "source": [
    "%%time\n",
    "data.ConditionTier().populate(targets)"
   ]
  },
  {
   "cell_type": "code",
   "execution_count": 21,
   "metadata": {},
   "outputs": [
    {
     "name": "stdout",
     "output_type": "stream",
     "text": [
      "CPU times: user 21.2 ms, sys: 1.3 ms, total: 22.5 ms\n",
      "Wall time: 2.48 s\n"
     ]
    }
   ],
   "source": [
    "%%time\n",
    "data.Frame.populate('preproc_id=0')"
   ]
  },
  {
   "cell_type": "code",
   "execution_count": 22,
   "metadata": {},
   "outputs": [
    {
     "name": "stdout",
     "output_type": "stream",
     "text": [
      "08-10-2019:03:12:03 INFO     data_schemas.py      578:\t Sampling neural responses at 0.5s intervals\n",
      "08-10-2019:03:12:30 INFO     data_schemas.py      543:\t Loaded 7957 traces\n",
      "08-10-2019:03:12:30 INFO     data_schemas.py      545:\t Generating lowpass filters to 2.0Hz\n",
      "Using separate time traces per spline\n",
      "08-10-2019:03:13:21 INFO     data_schemas.py      582:\t Excluding 0 trials based on ExcludedTrial\n",
      "08-10-2019:03:14:56 INFO     data_schemas.py      558:\t Found 3 flip times\n",
      "08-10-2019:03:14:56 INFO     data_schemas.py      598:\t Sampling 6000 responses 0.3s after stimulus onset\n"
     ]
    },
    {
     "name": "stderr",
     "output_type": "stream",
     "text": [
      "Computing splines: 100%|██████████| 7957/7957 [04:58<00:00, 26.68it/s]\n"
     ]
    },
    {
     "name": "stdout",
     "output_type": "stream",
     "text": [
      "CPU times: user 6min 12s, sys: 15.6 s, total: 6min 27s\n",
      "Wall time: 8min 12s\n"
     ]
    }
   ],
   "source": [
    "%%time\n",
    "data.InputResponse().populate(targets, 'preproc_id=0')"
   ]
  },
  {
   "cell_type": "code",
   "execution_count": 23,
   "metadata": {},
   "outputs": [
    {
     "name": "stdout",
     "output_type": "stream",
     "text": [
      "08-10-2019:03:20:16 INFO     data_schemas.py      844:\t Populating {'animal_id': 22620,\n",
      " 'pipe_version': 1,\n",
      " 'preproc_id': 0,\n",
      " 'scan_idx': 15,\n",
      " 'segmentation_method': 6,\n",
      " 'session': 4,\n",
      " 'spike_method': 5,\n",
      " 'tracking_method': 2}\n",
      "08-10-2019:03:20:24 INFO     data_schemas.py      800:\t Keeping some nans in the pupil location trace\n",
      "08-10-2019:03:20:24 INFO     data_schemas.py      803:\t Keeping some nans in the pupil radius trace\n",
      "08-10-2019:03:20:24 INFO     data_schemas.py      809:\t Loading behavior frametimes\n"
     ]
    },
    {
     "name": "stderr",
     "output_type": "stream",
     "text": [
      "/src/neuro_data/neuro_data/static_images/data_schemas.py:798: FutureWarning: arrays to stack must be passed as a \"sequence\" type such as list or tuple. Support for non-sequence iterables such as generators is deprecated as of NumPy 1.16 and will raise an error in the future.\n",
      "  xy = np.vstack(map(partial(fill_nans, preserve_gap=3), xy.T))\n"
     ]
    },
    {
     "name": "stdout",
     "output_type": "stream",
     "text": [
      "08-10-2019:03:20:24 INFO     data_schemas.py      861:\t Downsampling eye signal to 2.0Hz\n",
      "Using one common time traces per spline\n",
      "08-10-2019:03:20:25 INFO     data_schemas.py      558:\t Found 3 flip times\n",
      "08-10-2019:03:20:25 WARNING  data_schemas.py      891:\t Found 22 NaN trials. Setting to -1\n",
      "CPU times: user 9.59 s, sys: 139 ms, total: 9.72 s\n",
      "Wall time: 10 s\n"
     ]
    }
   ],
   "source": [
    "%%time\n",
    "data.Eye().populate(targets)"
   ]
  },
  {
   "cell_type": "code",
   "execution_count": 24,
   "metadata": {},
   "outputs": [
    {
     "name": "stdout",
     "output_type": "stream",
     "text": [
      "08-10-2019:03:20:26 INFO     data_schemas.py      917:\t Populating\n",
      "{'animal_id': 22620,\n",
      " 'pipe_version': 1,\n",
      " 'preproc_id': 0,\n",
      " 'scan_idx': 15,\n",
      " 'segmentation_method': 6,\n",
      " 'session': 4,\n",
      " 'spike_method': 5}\n",
      "08-10-2019:03:20:26 INFO     data_schemas.py      809:\t Loading behavior frametimes\n",
      "08-10-2019:03:20:26 INFO     data_schemas.py      933:\t Downsampling treadmill signal to 2.0Hz\n",
      "08-10-2019:03:20:26 WARNING  data.py               47:\t Found nans in the x-values. Replacing them with linear interpolation\n",
      "08-10-2019:03:20:26 INFO     data_schemas.py      558:\t Found 3 flip times\n",
      "CPU times: user 1.32 s, sys: 36.8 ms, total: 1.36 s\n",
      "Wall time: 1.59 s\n"
     ]
    }
   ],
   "source": [
    "%%time\n",
    "data.Treadmill().populate(targets)"
   ]
  },
  {
   "cell_type": "markdown",
   "metadata": {},
   "source": [
    "## Create Static Dataset\n",
    "Update `StaticMultiDataset`'s `selection` list inside `fill` method to add new scans/preprocessing combination."
   ]
  },
  {
   "cell_type": "code",
   "execution_count": 25,
   "metadata": {},
   "outputs": [
    {
     "data": {
      "text/plain": [
       "<module 'neuro_data.static_images.data_schemas' from '/src/neuro_data/neuro_data/static_images/data_schemas.py'>"
      ]
     },
     "execution_count": 25,
     "metadata": {},
     "output_type": "execute_result"
    }
   ],
   "source": [
    "from importlib import reload\n",
    "reload(data)"
   ]
  },
  {
   "cell_type": "code",
   "execution_count": 26,
   "metadata": {},
   "outputs": [
    {
     "name": "stdout",
     "output_type": "stream",
     "text": [
      "Already found entry {'group_id': 0, 'description': '11521-7-1'}\n",
      "Already found entry {'group_id': 1, 'description': '11521-7-2'}\n",
      "Already found entry {'group_id': 2, 'description': '16157-5-5'}\n",
      "Already found entry {'group_id': 3, 'description': '16157-5-6'}\n",
      "Already found entry {'group_id': 4, 'description': '16157-5-5-scaled'}\n",
      "Already found entry {'group_id': 5, 'description': '16312-3-20'}\n",
      "Already found entry {'group_id': 6, 'description': '11521-7-1-scaled'}\n",
      "Already found entry {'group_id': 7, 'description': '11521-7-2-scaled'}\n",
      "Already found entry {'group_id': 8, 'description': '18765-4-6'}\n",
      "Already found entry {'group_id': 9, 'description': '16157-5'}\n",
      "Already found entry {'group_id': 10, 'description': '20505-2-24'}\n",
      "Already found entry {'group_id': 11, 'description': '20505-3-7'}\n",
      "Already found entry {'group_id': 12, 'description': '20505-6-1'}\n",
      "Already found entry {'group_id': 13, 'description': '20505-7-29'}\n",
      "Already found entry {'group_id': 14, 'description': '20457-5-9'}\n",
      "Already found entry {'group_id': 15, 'description': '20505-10-14'}\n",
      "Already found entry {'group_id': 16, 'description': '20457-7-10'}\n",
      "Already found entry {'group_id': 17, 'description': '20457-8-12'}\n",
      "Already found entry {'group_id': 18, 'description': '20505-12-29'}\n",
      "Already found entry {'group_id': 19, 'description': '20505-14-33'}\n",
      "Already found entry {'group_id': 20, 'description': '20505-11-16'}\n",
      "Already found entry {'group_id': 21, 'description': '20210-4-11'}\n",
      "Already found entry {'group_id': 22, 'description': '20892-3-14'}\n",
      "Already found entry {'group_id': 23, 'description': '20892-9-10'}\n",
      "Already found entry {'group_id': 24, 'description': '20210-5-16'}\n",
      "Already found entry {'group_id': 25, 'description': '20210-7-14'}\n",
      "Already found entry {'group_id': 26, 'description': '20210-8-17'}\n",
      "Already found entry {'group_id': 27, 'description': '20892-6-24'}\n",
      "Already found entry {'group_id': 28, 'description': '20505-10-14-gamma'}\n",
      "Already found entry {'group_id': 29, 'description': '21067-9-17'}\n",
      "Already found entry {'group_id': 30, 'description': '21067-15-9'}\n",
      "Already found entry {'group_id': 31, 'description': '20892-10-10'}\n",
      "Already found entry {'group_id': 32, 'description': '20457-5-17'}\n",
      "Already found entry {'group_id': 33, 'description': '20505-10-19'}\n",
      "Already found entry {'group_id': 34, 'description': '20892-4-16'}\n",
      "Already found entry {'group_id': 35, 'description': '21067-10-18'}\n",
      "Already found entry {'group_id': 36, 'description': '21067-11-21'}\n",
      "Already found entry {'group_id': 37, 'description': '21067-12-15'}\n",
      "Already found entry {'group_id': 38, 'description': '21067-13-14'}\n",
      "Already found entry {'group_id': 39, 'description': '21553-11-10'}\n",
      "Already found entry {'group_id': 40, 'description': '20892-9-11'}\n",
      "Already found entry {'group_id': 41, 'description': '21844-2-12'}\n",
      "Already found entry {'group_id': 42, 'description': '22085-2-20'}\n",
      "Already found entry {'group_id': 43, 'description': '22083-7-21'}\n",
      "Already found entry {'group_id': 44, 'description': '22083-6-18'}\n",
      "Already found entry {'group_id': 45, 'description': '22279-4-23'}\n",
      "Already found entry {'group_id': 46, 'description': '22564-2-12'}\n",
      "Already found entry {'group_id': 47, 'description': '22564-2-13'}\n",
      "Already found entry {'group_id': 48, 'description': '22564-3-8'}\n",
      "Already found entry {'group_id': 49, 'description': '22564-3-12'}\n",
      "Already found entry {'group_id': 50, 'description': '22564-5-12'}\n",
      "Already found entry {'group_id': 51, 'description': '22285-4-17'}\n",
      "Already found entry {'group_id': 52, 'description': '22281-2-15'}\n",
      "Already found entry {'group_id': 53, 'description': '22223-2-15'}\n",
      "Already found entry {'group_id': 54, 'description': '20622-2-14'}\n"
     ]
    }
   ],
   "source": [
    "data.StaticMultiDataset().fill()"
   ]
  },
  {
   "cell_type": "code",
   "execution_count": null,
   "metadata": {},
   "outputs": [],
   "source": []
  },
  {
   "cell_type": "code",
   "execution_count": null,
   "metadata": {},
   "outputs": [],
   "source": []
  },
  {
   "cell_type": "code",
   "execution_count": null,
   "metadata": {},
   "outputs": [],
   "source": []
  },
  {
   "cell_type": "markdown",
   "metadata": {},
   "source": [
    "## (Deprecated) Fill Area and Layer map with V1 L2/3"
   ]
  },
  {
   "cell_type": "markdown",
   "metadata": {},
   "source": [
    "Most MEI scans have been performed on V1 L2/3. Check if True."
   ]
  },
  {
   "cell_type": "code",
   "execution_count": 27,
   "metadata": {},
   "outputs": [],
   "source": [
    "missing_scans = (meso.ScanDone & targets) - (anatomy.AreaMembership * anatomy.LayerMembership)"
   ]
  },
  {
   "cell_type": "code",
   "execution_count": 28,
   "metadata": {},
   "outputs": [
    {
     "data": {
      "text/html": [
       "\n",
       "        \n",
       "        <style type=\"text/css\">\n",
       "            .Relation{\n",
       "                border-collapse:collapse;\n",
       "            }\n",
       "            .Relation th{\n",
       "                background: #A0A0A0; color: #ffffff; padding:4px; border:#f0e0e0 1px solid;\n",
       "                font-weight: normal; font-family: monospace; font-size: 100%;\n",
       "            }\n",
       "            .Relation td{\n",
       "                padding:4px; border:#f0e0e0 1px solid; font-size:100%;\n",
       "            }\n",
       "            .Relation tr:nth-child(odd){\n",
       "                background: #ffffff;\n",
       "            }\n",
       "            .Relation tr:nth-child(even){\n",
       "                background: #f3f1ff;\n",
       "            }\n",
       "            /* Tooltip container */\n",
       "            .djtooltip {\n",
       "            }\n",
       "            /* Tooltip text */\n",
       "            .djtooltip .djtooltiptext {\n",
       "                visibility: hidden;\n",
       "                width: 120px;\n",
       "                background-color: black;\n",
       "                color: #fff;\n",
       "                text-align: center;\n",
       "                padding: 5px 0;\n",
       "                border-radius: 6px;\n",
       "                /* Position the tooltip text - see examples below! */\n",
       "                position: absolute;\n",
       "                z-index: 1;\n",
       "            }\n",
       "            #primary {\n",
       "                font-weight: bold;\n",
       "                color: black;\n",
       "            }\n",
       "\n",
       "            #nonprimary {\n",
       "                font-weight: normal;\n",
       "                color: white;\n",
       "            }\n",
       "\n",
       "            /* Show the tooltip text when you mouse over the tooltip container */\n",
       "            .djtooltip:hover .djtooltiptext {\n",
       "                visibility: visible;\n",
       "            }\n",
       "        </style>\n",
       "        \n",
       "        <b>scans that are fully processed (updated every time a field is added)</b>\n",
       "            <div style=\"max-height:1000px;max-width:1500px;overflow:auto;\">\n",
       "            <table border=\"1\" class=\"Relation\">\n",
       "                <thead> <tr style=\"text-align: right;\"> <th> <div class=\"djtooltip\">\n",
       "                                <p id=\"primary\">animal_id</p>\n",
       "                                <span class=\"djtooltiptext\">id number</span>\n",
       "                            </div></th><th><div class=\"djtooltip\">\n",
       "                                <p id=\"primary\">session</p>\n",
       "                                <span class=\"djtooltiptext\">session index for the mouse</span>\n",
       "                            </div></th><th><div class=\"djtooltip\">\n",
       "                                <p id=\"primary\">scan_idx</p>\n",
       "                                <span class=\"djtooltiptext\">number of TIFF stack file</span>\n",
       "                            </div></th><th><div class=\"djtooltip\">\n",
       "                                <p id=\"primary\">pipe_version</p>\n",
       "                                <span class=\"djtooltiptext\"></span>\n",
       "                            </div></th><th><div class=\"djtooltip\">\n",
       "                                <p id=\"primary\">segmentation_method</p>\n",
       "                                <span class=\"djtooltiptext\"></span>\n",
       "                            </div></th><th><div class=\"djtooltip\">\n",
       "                                <p id=\"primary\">spike_method</p>\n",
       "                                <span class=\"djtooltiptext\">spike inference method</span>\n",
       "                            </div> </th> </tr> </thead>\n",
       "                <tbody> <tr> <td>22620</td>\n",
       "<td>4</td>\n",
       "<td>15</td>\n",
       "<td>1</td>\n",
       "<td>6</td>\n",
       "<td>5</td> </tr> </tbody>\n",
       "            </table>\n",
       "            \n",
       "            <p>Total: 1</p></div>\n",
       "            "
      ],
      "text/plain": [
       "*animal_id    *session    *scan_idx    *pipe_version  *segmentation_ *spike_method \n",
       "+-----------+ +---------+ +----------+ +------------+ +------------+ +------------+\n",
       "22620         4           15           1              6              5             \n",
       " (Total: 1)"
      ]
     },
     "execution_count": 28,
     "metadata": {},
     "output_type": "execute_result"
    }
   ],
   "source": [
    "missing_scans"
   ]
  },
  {
   "cell_type": "code",
   "execution_count": 29,
   "metadata": {},
   "outputs": [],
   "source": [
    "units = (meso.ScanSet.Unit & missing_scans).fetch('KEY')"
   ]
  },
  {
   "cell_type": "code",
   "execution_count": 30,
   "metadata": {},
   "outputs": [],
   "source": [
    "for u in units:\n",
    "    u['brain_area'] = 'V1'\n",
    "    u['layer'] = 'L2/3'"
   ]
  },
  {
   "cell_type": "code",
   "execution_count": 31,
   "metadata": {},
   "outputs": [],
   "source": [
    "anatomy.AreaMembership.insert(units, ignore_extra_fields=True, allow_direct_insert=True, skip_duplicates=True)"
   ]
  },
  {
   "cell_type": "code",
   "execution_count": 32,
   "metadata": {},
   "outputs": [],
   "source": [
    "anatomy.LayerMembership.insert(units, ignore_extra_fields=True, allow_direct_insert=True, skip_duplicates=True)"
   ]
  },
  {
   "cell_type": "code",
   "execution_count": null,
   "metadata": {},
   "outputs": [],
   "source": []
  }
 ],
 "metadata": {
  "kernelspec": {
   "display_name": "Python 3",
   "language": "python",
   "name": "python3"
  },
  "language_info": {
   "codemirror_mode": {
    "name": "ipython",
    "version": 3
   },
   "file_extension": ".py",
   "mimetype": "text/x-python",
   "name": "python",
   "nbconvert_exporter": "python",
   "pygments_lexer": "ipython3",
   "version": "3.6.8"
  }
 },
 "nbformat": 4,
 "nbformat_minor": 4
}
