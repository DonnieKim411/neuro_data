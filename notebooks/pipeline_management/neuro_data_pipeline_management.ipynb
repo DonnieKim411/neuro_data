{
 "cells": [
  {
   "cell_type": "code",
   "execution_count": 1,
   "metadata": {},
   "outputs": [],
   "source": [
    "%load_ext autoreload\n",
    "%autoreload 2"
   ]
  },
  {
   "cell_type": "code",
   "execution_count": 2,
   "metadata": {},
   "outputs": [
    {
     "name": "stdout",
     "output_type": "stream",
     "text": [
      "Connecting donnie@10.28.0.34:3306\n"
     ]
    }
   ],
   "source": [
    "from neuro_data.static_images.data_schemas import *"
   ]
  },
  {
   "cell_type": "code",
   "execution_count": 3,
   "metadata": {
    "scrolled": true
   },
   "outputs": [
    {
     "name": "stdout",
     "output_type": "stream",
     "text": [
      "[NeuroDataPipelineManagement]: Processing {'animal_id': 23555, 'session': 12, 'scan_idx': 2}\n",
      "[Preprocessing Check]: ScanDone Check Passed\n",
      "[Preprocessing Check]: AreaMembership Check Passed\n",
      "[Preprocessing Check]: LayerMembership Check Passed\n",
      "[Preprocessing Check]: Sync Check Passed\n",
      "[Preprocessing Check]: All table requirements passed, beginning neuro_data populating:\n",
      "[NeuroData.Static Populate]: Scan has already been added to StaticScanCandidate\n",
      "[NeuroData.Static Populate]: Populating StaticScan:\n",
      "[NeuroData.Static Populate]: Populating ImageNetSplit:\n"
     ]
    },
    {
     "ename": "AssertionError",
     "evalue": "unique_frames == 0",
     "output_type": "error",
     "traceback": [
      "\u001b[0;31m---------------------------------------------------------------------------\u001b[0m",
      "\u001b[0;31mAssertionError\u001b[0m                            Traceback (most recent call last)",
      "\u001b[0;32m<ipython-input-3-98eb7fde5d19>\u001b[0m in \u001b[0;36m<module>\u001b[0;34m\u001b[0m\n\u001b[1;32m     10\u001b[0m \u001b[0;31m# for scan in target_scans:\u001b[0m\u001b[0;34m\u001b[0m\u001b[0;34m\u001b[0m\u001b[0;34m\u001b[0m\u001b[0m\n\u001b[1;32m     11\u001b[0m \u001b[0;31m# #     pass\u001b[0m\u001b[0;34m\u001b[0m\u001b[0;34m\u001b[0m\u001b[0;34m\u001b[0m\u001b[0m\n\u001b[0;32m---> 12\u001b[0;31m \u001b[0mneurodata_pipeline\u001b[0m\u001b[0;34m.\u001b[0m\u001b[0mprocess_static_scans\u001b[0m\u001b[0;34m(\u001b[0m\u001b[0mtarget_scans\u001b[0m\u001b[0;34m)\u001b[0m\u001b[0;34m\u001b[0m\u001b[0;34m\u001b[0m\u001b[0m\n\u001b[0m\u001b[1;32m     13\u001b[0m \u001b[0;34m\u001b[0m\u001b[0m\n",
      "\u001b[0;32m/usr/local/lib/python3.6/dist-packages/neuro_data/pipeline_management/NeuroDataPipelineManagement.py\u001b[0m in \u001b[0;36mprocess_static_scans\u001b[0;34m(target_scans)\u001b[0m\n\u001b[1;32m    144\u001b[0m             \u001b[0;31m# Populating ImageNetSplit\u001b[0m\u001b[0;34m\u001b[0m\u001b[0;34m\u001b[0m\u001b[0;34m\u001b[0m\u001b[0m\n\u001b[1;32m    145\u001b[0m             \u001b[0mprint\u001b[0m\u001b[0;34m(\u001b[0m\u001b[0;34m\"[NeuroData.Static Populate]: Populating ImageNetSplit:\"\u001b[0m\u001b[0;34m)\u001b[0m\u001b[0;34m\u001b[0m\u001b[0;34m\u001b[0m\u001b[0m\n\u001b[0;32m--> 146\u001b[0;31m             \u001b[0mImageNetSplit\u001b[0m\u001b[0;34m(\u001b[0m\u001b[0;34m)\u001b[0m\u001b[0;34m.\u001b[0m\u001b[0mfill\u001b[0m\u001b[0;34m(\u001b[0m\u001b[0mtarget_scan_done_key\u001b[0m\u001b[0;34m)\u001b[0m\u001b[0;34m\u001b[0m\u001b[0;34m\u001b[0m\u001b[0m\n\u001b[0m\u001b[1;32m    147\u001b[0m \u001b[0;34m\u001b[0m\u001b[0m\n\u001b[1;32m    148\u001b[0m             \u001b[0;31m# Populate ConditionTier\u001b[0m\u001b[0;34m\u001b[0m\u001b[0;34m\u001b[0m\u001b[0;34m\u001b[0m\u001b[0m\n",
      "\u001b[0;32m/usr/local/lib/python3.6/dist-packages/neuro_data/static_images/data_schemas.py\u001b[0m in \u001b[0;36mfill\u001b[0;34m(self, scan_key)\u001b[0m\n\u001b[1;32m    150\u001b[0m \u001b[0;34m\u001b[0m\u001b[0m\n\u001b[1;32m    151\u001b[0m         \u001b[0;31m# Get number of repeated frames\u001b[0m\u001b[0;34m\u001b[0m\u001b[0;34m\u001b[0m\u001b[0;34m\u001b[0m\u001b[0m\n\u001b[0;32m--> 152\u001b[0;31m         \u001b[0;32massert\u001b[0m \u001b[0mlen\u001b[0m\u001b[0;34m(\u001b[0m\u001b[0munique_frames\u001b[0m\u001b[0;34m)\u001b[0m \u001b[0;34m!=\u001b[0m \u001b[0;36m0\u001b[0m\u001b[0;34m,\u001b[0m \u001b[0;34m'unique_frames == 0'\u001b[0m\u001b[0;34m\u001b[0m\u001b[0;34m\u001b[0m\u001b[0m\n\u001b[0m\u001b[1;32m    153\u001b[0m \u001b[0;34m\u001b[0m\u001b[0m\n\u001b[1;32m    154\u001b[0m         \u001b[0mn\u001b[0m \u001b[0;34m=\u001b[0m \u001b[0mint\u001b[0m\u001b[0;34m(\u001b[0m\u001b[0mnp\u001b[0m\u001b[0;34m.\u001b[0m\u001b[0mmedian\u001b[0m\u001b[0;34m(\u001b[0m\u001b[0munique_frames\u001b[0m\u001b[0;34m.\u001b[0m\u001b[0mfetch\u001b[0m\u001b[0;34m(\u001b[0m\u001b[0;34m'repeats'\u001b[0m\u001b[0;34m)\u001b[0m\u001b[0;34m)\u001b[0m\u001b[0;34m)\u001b[0m  \u001b[0;31m# HACK\u001b[0m\u001b[0;34m\u001b[0m\u001b[0;34m\u001b[0m\u001b[0m\n",
      "\u001b[0;31mAssertionError\u001b[0m: unique_frames == 0"
     ]
    }
   ],
   "source": [
    "from neuro_data.pipeline_management.NeuroDataPipelineManagement import NeuroDataPipelineManagement\n",
    "import datajoint as dj\n",
    "# 23555-12-2\n",
    "# List the scans you are interested in and run this block\n",
    "target_scans = [\n",
    "    dict(animal_id = 23555, session=12, scan_idx=2),\n",
    "    ]\n",
    "\n",
    "neurodata_pipeline = NeuroDataPipelineManagement()\n",
    "# for scan in target_scans:\n",
    "# #     pass\n",
    "neurodata_pipeline.process_static_scans(target_scans)\n",
    "    \n"
   ]
  },
  {
   "cell_type": "code",
   "execution_count": 4,
   "metadata": {},
   "outputs": [],
   "source": [
    "neurodata_pipeline?"
   ]
  },
  {
   "cell_type": "code",
   "execution_count": 14,
   "metadata": {},
   "outputs": [
    {
     "name": "stdout",
     "output_type": "stream",
     "text": [
      "> \u001b[0;32m/usr/local/lib/python3.6/dist-packages/neuro_data/static_images/data_schemas.py\u001b[0m(152)\u001b[0;36mfill\u001b[0;34m()\u001b[0m\n",
      "\u001b[0;32m    150 \u001b[0;31m\u001b[0;34m\u001b[0m\u001b[0m\n",
      "\u001b[0m\u001b[0;32m    151 \u001b[0;31m        \u001b[0;31m# Get number of repeated frames\u001b[0m\u001b[0;34m\u001b[0m\u001b[0;34m\u001b[0m\u001b[0;34m\u001b[0m\u001b[0m\n",
      "\u001b[0m\u001b[0;32m--> 152 \u001b[0;31m        \u001b[0;32massert\u001b[0m \u001b[0mlen\u001b[0m\u001b[0;34m(\u001b[0m\u001b[0munique_frames\u001b[0m\u001b[0;34m)\u001b[0m \u001b[0;34m!=\u001b[0m \u001b[0;36m0\u001b[0m\u001b[0;34m,\u001b[0m \u001b[0;34m'unique_frames == 0'\u001b[0m\u001b[0;34m\u001b[0m\u001b[0;34m\u001b[0m\u001b[0m\n",
      "\u001b[0m\u001b[0;32m    153 \u001b[0;31m\u001b[0;34m\u001b[0m\u001b[0m\n",
      "\u001b[0m\u001b[0;32m    154 \u001b[0;31m        \u001b[0mn\u001b[0m \u001b[0;34m=\u001b[0m \u001b[0mint\u001b[0m\u001b[0;34m(\u001b[0m\u001b[0mnp\u001b[0m\u001b[0;34m.\u001b[0m\u001b[0mmedian\u001b[0m\u001b[0;34m(\u001b[0m\u001b[0munique_frames\u001b[0m\u001b[0;34m.\u001b[0m\u001b[0mfetch\u001b[0m\u001b[0;34m(\u001b[0m\u001b[0;34m'repeats'\u001b[0m\u001b[0;34m)\u001b[0m\u001b[0;34m)\u001b[0m\u001b[0;34m)\u001b[0m  \u001b[0;31m# HACK\u001b[0m\u001b[0;34m\u001b[0m\u001b[0;34m\u001b[0m\u001b[0m\n",
      "\u001b[0m\n",
      "ipdb> unique_frames\n",
      "*image_class   *image_id    repeats    \n",
      "+------------+ +----------+ +---------+\n",
      "\n",
      " (Total: 0)\n",
      "\n",
      "ipdb> all_frames\n",
      "*condition_has *animal_id    *session    *scan_idx    *trial_idx    image_class    image_id     projector_id   projector_conf channel_1     channel_2     channel_3     pre_blank_peri presentation_t flip_times last_flip     trial_ts    \n",
      "+------------+ +-----------+ +---------+ +----------+ +-----------+ +------------+ +----------+ +------------+ +------------+ +-----------+ +-----------+ +-----------+ +------------+ +------------+ +--------+ +-----------+ +----------+\n",
      "\n",
      " (Total: 0)\n",
      "\n",
      "ipdb> frame_table\n",
      "<class 'datajoint.user_tables.ColorFrameProjector'>\n",
      "ipdb> IMAGE_CLASSES\n",
      "'image_class in (\"imagenet\", \"imagenet_v2_gray\", \"imagenet_v2_rgb\")'\n",
      "ipdb> q\n"
     ]
    }
   ],
   "source": [
    "%debug"
   ]
  },
  {
   "cell_type": "code",
   "execution_count": null,
   "metadata": {},
   "outputs": [],
   "source": []
  }
 ],
 "metadata": {
  "kernelspec": {
   "display_name": "Python 3",
   "language": "python",
   "name": "python3"
  },
  "language_info": {
   "codemirror_mode": {
    "name": "ipython",
    "version": 3
   },
   "file_extension": ".py",
   "mimetype": "text/x-python",
   "name": "python",
   "nbconvert_exporter": "python",
   "pygments_lexer": "ipython3",
   "version": "3.6.9"
  }
 },
 "nbformat": 4,
 "nbformat_minor": 2
}
