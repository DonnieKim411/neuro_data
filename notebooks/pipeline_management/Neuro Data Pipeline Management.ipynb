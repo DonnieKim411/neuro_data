{
 "cells": [
  {
   "cell_type": "code",
   "execution_count": 3,
   "metadata": {},
   "outputs": [
    {
     "name": "stdout",
     "output_type": "stream",
     "text": [
      "The autoreload extension is already loaded. To reload it, use:\n",
      "  %reload_ext autoreload\n"
     ]
    }
   ],
   "source": [
    "%load_ext autoreload\n",
    "%autoreload 2"
   ]
  },
  {
   "cell_type": "code",
   "execution_count": null,
   "metadata": {
    "scrolled": false
   },
   "outputs": [
    {
     "name": "stdout",
     "output_type": "stream",
     "text": [
      "Running preprocessing checks for  {'animal_id': 23602, 'session': 1, 'scan_idx': 17}\n",
      "[Preprocessing Check]: AreaMembership Check Passed\n",
      "[Preprocessing Check]: LayerMembership Check Passed\n",
      "[Preprocessing Check]: ScanDone Check Passed\n",
      "[Preprocessing Check]: ScanDone Check Passed\n",
      "[Preprocessing Check]: All table requirements passed, beginning neuro_data populating:\n",
      "[NeuroData.Static Populate]: Scan has already been added to StaticScanCandidate\n",
      "[NeuroData.Static Populate]: Populating StaticScan:\n",
      "[NeuroData.Static Populate]: Populating ConditionTier:\n",
      "[NeuroData.Static Populate]: Populating Frame:\n"
     ]
    }
   ],
   "source": [
    "from neuro_data.pipeline_management.NeuroDataPipelineManagement import NeuroDataPipelineManagement\n",
    "import datajoint as dj\n",
    "\n",
    "# List the scans you are interested in and run this block\n",
    "target_scans = [\n",
    "    dict(animal_id = 23602, session = 1, scan_idx = 17),\n",
    "    dict(animal_id = 23602, session = 1, scan_idx = 19),\n",
    "    dict(animal_id = 23604, session = 1, scan_idx = 17),\n",
    "    dict(animal_id = 23604, session = 1, scan_idx = 19)]\n",
    "\n",
    "neurodata_pipeline = NeuroDataPipelineManagement()\n",
    "for target_scan in target_scans:\n",
    "    neurodata_pipeline.process_static_scan(target_scan)\n",
    "    \n"
   ]
  }
 ],
 "metadata": {
  "kernelspec": {
   "display_name": "Python 3",
   "language": "python",
   "name": "python3"
  },
  "language_info": {
   "codemirror_mode": {
    "name": "ipython",
    "version": 3
   },
   "file_extension": ".py",
   "mimetype": "text/x-python",
   "name": "python",
   "nbconvert_exporter": "python",
   "pygments_lexer": "ipython3",
   "version": "3.6.8"
  }
 },
 "nbformat": 4,
 "nbformat_minor": 2
}
